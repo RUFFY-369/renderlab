{
  "nbformat": 4,
  "nbformat_minor": 0,
  "metadata": {
    "colab": {
      "provenance": [],
      "include_colab_link": true
    },
    "kernelspec": {
      "name": "python3",
      "display_name": "Python 3"
    },
    "language_info": {
      "name": "python"
    }
  },
  "cells": [
    {
      "cell_type": "markdown",
      "metadata": {
        "id": "view-in-github",
        "colab_type": "text"
      },
      "source": [
        "<a href=\"https://colab.research.google.com/github/ryanrudes/renderlab/blob/main/examples/demo.ipynb\" target=\"_parent\"><img src=\"https://colab.research.google.com/assets/colab-badge.svg\" alt=\"Open In Colab\"/></a>"
      ]
    },
    {
      "cell_type": "code",
      "metadata": {
        "id": "LP6XgpV0Valv"
      },
      "source": [
        "!pip install renderlab"
      ],
      "execution_count": 1,
      "outputs": []
    },
    {
      "cell_type": "code",
      "metadata": {
        "id": "OpymyGsvVbGS"
      },
      "source": [
        "import gymnasium as gym\n",
        "import renderlab as rl"
      ],
      "execution_count": 2,
      "outputs": []
    },
    {
      "cell_type": "code",
      "metadata": {
        "id": "m7to3Bq2Vjy6"
      },
      "source": [
        "env = gym.make(\"CartPole-v1\", render_mode = \"rgb_array\")\n",
        "env = rl.RenderFrame(env, \"./output\")"
      ],
      "execution_count": 3,
      "outputs": []
    },
    {
      "cell_type": "code",
      "source": [
        "observation, info = env.reset()\n",
        "\n",
        "while True:\n",
        "  action = env.action_space.sample()\n",
        "  observation, reward, terminated, truncated, info = env.step(action)\n",
        "\n",
        "  if terminated or truncated:\n",
        "      break"
      ],
      "metadata": {
        "id": "_jqGnt7f8Jsw"
      },
      "execution_count": 4,
      "outputs": []
    },
    {
      "cell_type": "code",
      "source": [
        "env.play()"
      ],
      "metadata": {
        "id": "NZCY_-0p_F2x",
        "colab": {
          "base_uri": "https://localhost:8080/",
          "height": 508
        },
        "outputId": "342cf990-b747-461c-8b28-e0557ab0f803"
      },
      "execution_count": 5,
      "outputs": [
        {
          "output_type": "stream",
          "name": "stdout",
          "text": [
            "Moviepy - Building video temp-{start}.mp4.\n",
            "Moviepy - Writing video temp-{start}.mp4\n",
            "\n"
          ]
        },
        {
          "output_type": "stream",
          "name": "stderr",
          "text": []
        },
        {
          "output_type": "stream",
          "name": "stdout",
          "text": [
            "Moviepy - Done !\n",
            "Moviepy - video ready temp-{start}.mp4\n"
          ]
        },
        {
          "output_type": "display_data",
          "data": {
            "text/plain": [
              "<IPython.core.display.Video object>"
            ],
            "text/html": [
              "<video controls  >\n",
              " <source src=\"data:video/mp4;base64,AAAAIGZ0eXBpc29tAAACAGlzb21pc28yYXZjMW1wNDEAAAAIZnJlZQAACe1tZGF0AAACrgYF//+q3EXpvebZSLeWLNgg2SPu73gyNjQgLSBjb3JlIDE1OSByMjk5MSAxNzcxYjU1IC0gSC4yNjQvTVBFRy00IEFWQyBjb2RlYyAtIENvcHlsZWZ0IDIwMDMtMjAxOSAtIGh0dHA6Ly93d3cudmlkZW9sYW4ub3JnL3gyNjQuaHRtbCAtIG9wdGlvbnM6IGNhYmFjPTEgcmVmPTMgZGVibG9jaz0xOjA6MCBhbmFseXNlPTB4MzoweDExMyBtZT1oZXggc3VibWU9NyBwc3k9MSBwc3lfcmQ9MS4wMDowLjAwIG1peGVkX3JlZj0xIG1lX3JhbmdlPTE2IGNocm9tYV9tZT0xIHRyZWxsaXM9MSA4eDhkY3Q9MSBjcW09MCBkZWFkem9uZT0yMSwxMSBmYXN0X3Bza2lwPTEgY2hyb21hX3FwX29mZnNldD0tMiB0aHJlYWRzPTMgbG9va2FoZWFkX3RocmVhZHM9MSBzbGljZWRfdGhyZWFkcz0wIG5yPTAgZGVjaW1hdGU9MSBpbnRlcmxhY2VkPTAgYmx1cmF5X2NvbXBhdD0wIGNvbnN0cmFpbmVkX2ludHJhPTAgYmZyYW1lcz0zIGJfcHlyYW1pZD0yIGJfYWRhcHQ9MSBiX2JpYXM9MCBkaXJlY3Q9MSB3ZWlnaHRiPTEgb3Blbl9nb3A9MCB3ZWlnaHRwPTIga2V5aW50PTI1MCBrZXlpbnRfbWluPTI1IHNjZW5lY3V0PTQwIGludHJhX3JlZnJlc2g9MCByY19sb29rYWhlYWQ9NDAgcmM9Y3JmIG1idHJlZT0xIGNyZj0yMy4wIHFjb21wPTAuNjAgcXBtaW49MCBxcG1heD02OSBxcHN0ZXA9NCBpcF9yYXRpbz0xLjQwIGFxPTE6MS4wMACAAAACJGWIhAAr//7Y5/Msq1xA0DVUuHVl7uFSgaMoZ2nkvUzAAAADAAADAABo/Ot9/srZ0dc2TAAAAwIUAF6DPCjCvjqEhH2OlB8rnAlkQj3LEJM4PwLf0ZbWziJZmpW9NBtBtg+8pgmtgj+c4YuFnqOPqNVhS3s/5/7MTj6zInFAv8i2n3htORqs0W6i9xTjllzrqRNTBj69H2iHiG6pYhBNTV/T9PmOha4cc0Cu8ub12eW9FCyon2aqf7kQ8QHDJR6z46JrtnlldpxaVZzi4C+973ROtCVMWXkCFKVjZe/dFntxcmAZ3AAAytmNkw13BPQJwk5hOAnyovF6AZx/ZCX9gIlRCw6+YABljsrG37EG1fElAK4zN91zX/8E/shsEIqNRgDAh0HMjb2CwNeSQAOwRAw8+lXa+HJWjgC7pkSTjAbndfawLeAvKbsjff0DBbnbN8zIH9RfUNH6rJx+Cj0x/hEguvV8ZQFBRjYyo8IcDjMnrA7OZ2u6upOaVH2Obc3R0SLFBtlN8NMMlMJzRMLnVHJUQrv2JmDH9Cd8QpCpfsa6488po2ZzzX1WGvPsATgz87x7cZYoZgZ5xgmR0Z4nda+9Dv0TPfvrQO0sR8pOn6PnmQ7iLF0wNl4GQpuz4VVC+P6D9iAAAS9MY15K0mvLeH5Gp2aE4yf+9WjMfuTPuc2c83RWNa734ic1lLePidJJNPCF6Y4FwIiRnaiDgAFwQAAAAwG9AAAArEGaJGxCf/3xAAADAp9Bs3MIVeAUaNJojPueX8PPugLpLcOkx6vH04o1N2wRiXI4ySGoAH3eRNIwzSvggdd1IYIEZv8QLUZ/mMn1ESagh/9o9m4N9QBB2xObnmOzllkzoxguQ6MwzaTPZLL1OC5RpA85Y1yq4ATqfMcXZKYq8V2aFrbKKlH+Kp3hN2nrlWpIPx1QBjo4IUwKhi5sXnbdyljFUoIklZK6e6M/UMAAAAAyQZ5CeI//AAAjwxdorRv1Q/Zkf5TrFACbUN4n1o1sZ9FADNJBv0m9GFkL8Lj2bdQn0cEAAAAZAZ5hdEb/AAADAAzmB6ui6xjeKt5jELfDgAAAADYBnmNqRv8AAC12lKnrQ5dS+U7oBCQcTMIgdFa22zah40GeL/HrmAmGMuxpxYU3g9XibqCiNMEAAACnQZpmSahBaJlMFPCf/fEAAAMCnwUPATsNEByADkTTvXGdVh7BlyTd54US9de/yTT1u947lRFg2/RCQ2V2SECS6O0niZClRJGyOe0w40dUkEcI3FUkVDKgP2y+gNaNM1UIe0ZK4Xy62OwS9Awx0cF5qBwtIvQkcDRloxt4ALtfha/HybwjncWIvPKWf9t4SBE4q5VlfBuHMU8Nvl1yRv77jXR13BzRdakAAAA5AZ6Fakb/AAAteAyOI0/eRwtchlK4WinpMUcynZuV1OYXZueGEzq/2jLF2jSD6MzY+Uy5nh/iZmLBAAAA2EGaiknhClJlMCEf/eEAAAQb/EA0HYNt7gALUIXyC4H9GTy6gUpNK4rZs0innw06tRkb2Y3CFUBHxEhSdz8U/kqIi9OBJDAuEQZIyfmUGIDnYCet2AoLeNb7IC23qzzx+LtJ8y310UGsYZMtyzs2I+gYr5WhILMfvwzm66P5qLdZba8kBXOJqbrAPcRDslk0BmncZeSaZGmx1p5cjwzTwerqLRNJqPAjUz/sSM0+ZlyItuLKiuexK7WeeCrtK3s226JZ/nyN2buNlpAoNQy9YgTYcChsfmlvgQAAAHlBnqhFNEx/AAAjuWK9F/aJGa1ZHQDMdYR19Peclr+IWSp7UNJ+Bc1Ip+F44ZTOBHi5fWMXJ83Y61i3XhcRe4lxJkRnf8oSQasNugyJOWKvF/szLr2trHzr4Z16kUFDKfJsrk7RH9XTy60cGGoyaXlMpjSYV3+aO8FUAAAATQGex3RG/wAALWJzenQC6hJARrRrUDmfxD6ieElcDhnYwv42p55TTszRJm6sFVv/WA+0BnFIG7EEGPrAAbnVNh3Cu7EAgJW4U16vMJLgAAAATQGeyWpG/wAALGQNCvZdH7MQAufZsWA2CkJR4pXb9KBppB3YLy2aqeKHGjHsCdjtkW0bVrgH4AIvmz1mE0oI9V16+zCde995y4pS9XaVAAAAZEGay0moQWiZTAj//IQAAA97dM5oNBOKeJpFgvzScrMmKNiUtZwmiKROiLwEG48DsQFDkopH0S6CsV1V+A9BN+w0oes2QOw0zSrE71fdM0KRWxqO1O0FmX/fUgjUk4lM9P275MAAAAB/QZrsSeEKUmUwI3/6WAAAH13+9lgvLFfN/A0iLScAFYI874TDE7lngA9LTi8M9D/nfJ+OuCaTlK1LcZjEUOOifVH4J1Wl8ayBtOFQ0kYoNLXB39EiChBkMcUSuCOSPsK55EsFgPZei4SEiZejtPp9QIj9FI7D0b9ukClop/VDsAAAA6dtb292AAAAbG12aGQAAAAAAAAAAAAAAAAAAAPoAAABsgABAAABAAAAAAAAAAAAAAAAAQAAAAAAAAAAAAAAAAAAAAEAAAAAAAAAAAAAAAAAAEAAAAAAAAAAAAAAAAAAAAAAAAAAAAAAAAAAAAAAAAACAAAC0XRyYWsAAABcdGtoZAAAAAMAAAAAAAAAAAAAAAEAAAAAAAABsgAAAAAAAAAAAAAAAAAAAAAAAQAAAAAAAAAAAAAAAAAAAAEAAAAAAAAAAAAAAAAAAEAAAAACWAAAAZAAAAAAACRlZHRzAAAAHGVsc3QAAAAAAAAAAQAAAbIAAAQAAAEAAAAAAkltZGlhAAAAIG1kaGQAAAAAAAAAAAAAAAAAADwAAAAaAFXEAAAAAAAtaGRscgAAAAAAAAAAdmlkZQAAAAAAAAAAAAAAAFZpZGVvSGFuZGxlcgAAAAH0bWluZgAAABR2bWhkAAAAAQAAAAAAAAAAAAAAJGRpbmYAAAAcZHJlZgAAAAAAAAABAAAADHVybCAAAAABAAABtHN0YmwAAACYc3RzZAAAAAAAAAABAAAAiGF2YzEAAAAAAAAAAQAAAAAAAAAAAAAAAAAAAAACWAGQAEgAAABIAAAAAAAAAAEAAAAAAAAAAAAAAAAAAAAAAAAAAAAAAAAAAAAAAAAAAAAY//8AAAAyYXZjQwFkAB7/4QAZZ2QAHqzZQJgz5eEAAAMAAQAAAwA8DxYtlgEABmjr48siwAAAABhzdHRzAAAAAAAAAAEAAAANAAACAAAAABRzdHNzAAAAAAAAAAEAAAABAAAAcGN0dHMAAAAAAAAADAAAAAEAAAQAAAAAAQAACgAAAAABAAAEAAAAAAEAAAAAAAAAAQAAAgAAAAABAAAGAAAAAAEAAAIAAAAAAQAACgAAAAABAAAEAAAAAAEAAAAAAAAAAQAAAgAAAAACAAAEAAAAABxzdHNjAAAAAAAAAAEAAAABAAAADQAAAAEAAABIc3RzegAAAAAAAAAAAAAADQAABNoAAACwAAAANgAAAB0AAAA6AAAAqwAAAD0AAADcAAAAfQAAAFEAAABRAAAAaAAAAIMAAAAUc3RjbwAAAAAAAAABAAAAMAAAAGJ1ZHRhAAAAWm1ldGEAAAAAAAAAIWhkbHIAAAAAAAAAAG1kaXJhcHBsAAAAAAAAAAAAAAAALWlsc3QAAAAlqXRvbwAAAB1kYXRhAAAAAQAAAABMYXZmNTguMjkuMTAw\" type=\"video/mp4\">\n",
              " Your browser does not support the video tag.\n",
              " </video>"
            ]
          },
          "metadata": {}
        }
      ]
    }
  ]
}